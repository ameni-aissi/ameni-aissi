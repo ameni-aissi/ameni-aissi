{
 "cells": [
  {
   "cell_type": "code",
   "execution_count": 1,
   "id": "0db4ce8d-1b3b-48b2-a266-1d4082611d8a",
   "metadata": {},
   "outputs": [],
   "source": [
    "#Task 1"
   ]
  },
  {
   "cell_type": "code",
   "execution_count": 2,
   "id": "604eadf7-e888-4e0d-a5c0-fc24c1eb9e4b",
   "metadata": {},
   "outputs": [],
   "source": [
    "def maximum (a,b,c):\n",
    "    sup=0\n",
    "    max=0\n",
    "    if a>b :\n",
    "        sup=a\n",
    "    else :\n",
    "        sup = b\n",
    "    if sup>c:\n",
    "        max=sup\n",
    "    else :\n",
    "        max=c\n",
    "    return (max)"
   ]
  },
  {
   "cell_type": "code",
   "execution_count": 3,
   "id": "fc5f2913-e604-4eae-9364-21179efd8ecf",
   "metadata": {},
   "outputs": [
    {
     "data": {
      "text/plain": [
       "35"
      ]
     },
     "execution_count": 3,
     "metadata": {},
     "output_type": "execute_result"
    }
   ],
   "source": [
    "maximum(20,35,19)"
   ]
  },
  {
   "cell_type": "code",
   "execution_count": 4,
   "id": "c012dc09-9e4f-460c-aa6d-f1b61eaee344",
   "metadata": {},
   "outputs": [],
   "source": [
    "#Task 2"
   ]
  },
  {
   "cell_type": "code",
   "execution_count": 5,
   "id": "7c2d7a5a-3a10-44d4-9f0a-8e829994e981",
   "metadata": {},
   "outputs": [
    {
     "data": {
      "text/plain": [
       "(50, 30)"
      ]
     },
     "execution_count": 5,
     "metadata": {},
     "output_type": "execute_result"
    }
   ],
   "source": [
    "def addsub (a,b):\n",
    "    return (a+b,a-b)\n",
    "addsub (40,10)"
   ]
  },
  {
   "cell_type": "code",
   "execution_count": 6,
   "id": "9daf1c1d-edde-4b99-98f8-8339467af156",
   "metadata": {},
   "outputs": [],
   "source": [
    "#Task 3"
   ]
  },
  {
   "cell_type": "code",
   "execution_count": 7,
   "id": "9572bc1b-3ab5-493b-9ad0-a94d5f701f13",
   "metadata": {},
   "outputs": [],
   "source": [
    "def sum(mylist):\n",
    "    somme=0\n",
    "    for i in mylist:\n",
    "        somme+=i\n",
    "    return (somme)\n",
    "\n",
    "liste1=[2,5,7,4,10,0,15,7,4,66]"
   ]
  },
  {
   "cell_type": "code",
   "execution_count": 8,
   "id": "1e2d07e3-5b55-47c3-a351-a5d3959f0277",
   "metadata": {},
   "outputs": [],
   "source": [
    "def multiply(mylist):\n",
    "    multiplication=1\n",
    "    for i in mylist:\n",
    "        multiplication*=i\n",
    "    return (multiplication)\n",
    "liste2=[10,9,8,7,6,5,4,3,2,1]"
   ]
  },
  {
   "cell_type": "code",
   "execution_count": 9,
   "id": "9145bb3c-0a96-4d45-a771-1f97aa8a5a10",
   "metadata": {},
   "outputs": [],
   "source": [
    "def oddindex(mylist):\n",
    "    li_odd=[]\n",
    "    count_odd=0\n",
    "    for i in mylist:\n",
    "        if count_odd % 2 ==0:\n",
    "            li_odd.append(i)\n",
    "        count_odd+=1\n",
    "    return (li_odd)"
   ]
  },
  {
   "cell_type": "code",
   "execution_count": 10,
   "id": "c20bcbb8-1389-4655-a37e-774e50024791",
   "metadata": {},
   "outputs": [
    {
     "name": "stdout",
     "output_type": "stream",
     "text": [
      "[2, 7, 10, 15, 4]\n"
     ]
    }
   ],
   "source": [
    "oddliste_1=oddindex(liste1)\n",
    "print(oddliste_1)"
   ]
  },
  {
   "cell_type": "code",
   "execution_count": 11,
   "id": "097fc306-926f-4d52-b6e4-1eb5b09b1dea",
   "metadata": {},
   "outputs": [
    {
     "name": "stdout",
     "output_type": "stream",
     "text": [
      "[10, 8, 6, 4, 2]\n"
     ]
    }
   ],
   "source": [
    "oddliste_2=oddindex(liste2)\n",
    "print (oddliste_2)"
   ]
  },
  {
   "cell_type": "code",
   "execution_count": 12,
   "id": "ec4497c3-9150-4ca2-b43e-b04f5a7a0507",
   "metadata": {},
   "outputs": [
    {
     "name": "stdout",
     "output_type": "stream",
     "text": [
      "the sum of the elements of the two lists with odd index is [12, 15, 16, 19, 6]\n"
     ]
    }
   ],
   "source": [
    "sum_result= list(map(lambda x,y:x+y,oddliste_1,oddliste_2))\n",
    "print (\"the sum of the elements of the two lists with odd index is\", sum_result)"
   ]
  },
  {
   "cell_type": "code",
   "execution_count": 13,
   "id": "656dcfd8-1e4a-49db-89ce-b61f6f84b446",
   "metadata": {},
   "outputs": [],
   "source": [
    "def evenindex(mylist):\n",
    "    li_even=[]\n",
    "    count_even=0\n",
    "    for i in mylist:\n",
    "        if count_even % 2 !=0 :\n",
    "            li_even.append(i)\n",
    "        count_even+=1\n",
    "    return (li_even)"
   ]
  },
  {
   "cell_type": "code",
   "execution_count": 14,
   "id": "d2ed67cf-2664-4c3f-8e91-0bb3eefa9384",
   "metadata": {},
   "outputs": [
    {
     "name": "stdout",
     "output_type": "stream",
     "text": [
      "[5, 4, 0, 7, 66]\n"
     ]
    }
   ],
   "source": [
    "evenliste_1=evenindex(liste1)\n",
    "print(evenliste_1)"
   ]
  },
  {
   "cell_type": "code",
   "execution_count": 15,
   "id": "32506a78-9547-4c4a-8bcd-3dfd818b9f19",
   "metadata": {},
   "outputs": [
    {
     "name": "stdout",
     "output_type": "stream",
     "text": [
      "[9, 7, 5, 3, 1]\n"
     ]
    }
   ],
   "source": [
    "evenliste_2=evenindex(liste2)\n",
    "print(evenliste_2)"
   ]
  },
  {
   "cell_type": "code",
   "execution_count": 16,
   "id": "f561e41c-12ce-4e78-8d58-a6443c3032e3",
   "metadata": {},
   "outputs": [
    {
     "name": "stdout",
     "output_type": "stream",
     "text": [
      "the multiplication of the elements of the two lists with even index is [45, 28, 0, 21, 66]\n"
     ]
    }
   ],
   "source": [
    "multiplication_result= list (map(lambda x,y:x*y, evenliste_1,evenliste_2))\n",
    "print (\"the multiplication of the elements of the two lists with even index is\", multiplication_result)"
   ]
  },
  {
   "cell_type": "code",
   "execution_count": 17,
   "id": "c28c6a59-c6bf-499a-8e82-6efee2395952",
   "metadata": {},
   "outputs": [],
   "source": [
    "#Task 4"
   ]
  },
  {
   "cell_type": "code",
   "execution_count": 18,
   "id": "b17aea51-ae5b-4a78-9c0a-e6efcd130b54",
   "metadata": {},
   "outputs": [
    {
     "name": "stdout",
     "output_type": "stream",
     "text": [
      "green-red-yellow-black-white\n"
     ]
    }
   ],
   "source": [
    "colors=\"green-red-yellow-black-white\"\n",
    "print (colors)"
   ]
  },
  {
   "cell_type": "code",
   "execution_count": 19,
   "id": "9e9d1abf-9642-4e04-ad6b-4615dc6a9cab",
   "metadata": {},
   "outputs": [
    {
     "name": "stdout",
     "output_type": "stream",
     "text": [
      "['green', 'red', 'yellow', 'black', 'white']\n"
     ]
    }
   ],
   "source": [
    "splitted=colors.split('-') \n",
    "print (splitted)"
   ]
  },
  {
   "cell_type": "code",
   "execution_count": 20,
   "id": "be0c0ece-d5b3-4b9c-9588-eb3988f0ee9d",
   "metadata": {},
   "outputs": [
    {
     "name": "stdout",
     "output_type": "stream",
     "text": [
      "['black', 'green', 'red', 'white', 'yellow']\n"
     ]
    }
   ],
   "source": [
    "splitted.sort()\n",
    "print (splitted)"
   ]
  },
  {
   "cell_type": "code",
   "execution_count": 21,
   "id": "67b29764-cbc8-4e7d-8386-b551e15bfc83",
   "metadata": {},
   "outputs": [],
   "source": [
    "#Task 5"
   ]
  },
  {
   "cell_type": "code",
   "execution_count": 32,
   "id": "f449a6ca-1617-455c-8299-11e158e0eb0c",
   "metadata": {},
   "outputs": [],
   "source": [
    "import math\n",
    "def operation(d):\n",
    "    round (d)\n",
    "    c=50\n",
    "    h=30\n",
    "    Q= math.sqrt((2*c*d)/h)\n",
    "    return(round(Q))"
   ]
  },
  {
   "cell_type": "code",
   "execution_count": 33,
   "id": "4f6e5ceb-9145-434a-abb9-1a1f80962571",
   "metadata": {},
   "outputs": [
    {
     "name": "stdout",
     "output_type": "stream",
     "text": [
      "[18, 22, 24]\n"
     ]
    }
   ],
   "source": [
    "result=list(map(operation, (100,150,180)))\n",
    "print (result)"
   ]
  },
  {
   "cell_type": "code",
   "execution_count": null,
   "id": "380a73d6-9cbe-4e5b-8c19-4101b7461985",
   "metadata": {},
   "outputs": [],
   "source": []
  }
 ],
 "metadata": {
  "kernelspec": {
   "display_name": "Python 3 (ipykernel)",
   "language": "python",
   "name": "python3"
  },
  "language_info": {
   "codemirror_mode": {
    "name": "ipython",
    "version": 3
   },
   "file_extension": ".py",
   "mimetype": "text/x-python",
   "name": "python",
   "nbconvert_exporter": "python",
   "pygments_lexer": "ipython3",
   "version": "3.9.7"
  }
 },
 "nbformat": 4,
 "nbformat_minor": 5
}
