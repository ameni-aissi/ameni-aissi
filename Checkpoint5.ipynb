{
 "cells": [
  {
   "cell_type": "code",
   "execution_count": 1,
   "id": "a6f935e6-130b-4eb0-b363-c530661ded6e",
   "metadata": {},
   "outputs": [
    {
     "name": "stdout",
     "output_type": "stream",
     "text": [
      "Coordinates are 1 , 2\n"
     ]
    }
   ],
   "source": [
    "class Point3D :\n",
    "    def __init__(self,x,y,z):\n",
    "        self.x=x\n",
    "        self.y=y\n",
    "        self.z=z\n",
    "        print (\"Coordinates are\",x,\",\",y)\n",
    "        \n",
    "my_point= Point3D(1,2,3)\n",
    "\n"
   ]
  },
  {
   "cell_type": "code",
   "execution_count": 2,
   "id": "2dde6ca7-00d6-43ba-9194-826cede96df0",
   "metadata": {},
   "outputs": [],
   "source": [
    "#Task 2"
   ]
  },
  {
   "cell_type": "code",
   "execution_count": 3,
   "id": "ce3583a7-0c39-4f4c-a47e-2cd87e67d70e",
   "metadata": {},
   "outputs": [
    {
     "name": "stdout",
     "output_type": "stream",
     "text": [
      "the area is 12\n",
      "the perimeter is 14\n"
     ]
    }
   ],
   "source": [
    "class Rectangle :\n",
    "    def __init__(self,length,width):\n",
    "        self.length=length\n",
    "        self.width=width\n",
    "    def area (self):\n",
    "        return \"the area is {}\".format(self.length*self.width)\n",
    "    def perimeter (self):\n",
    "        return \"the perimeter is {}\".format(2*(self.length+self.width))\n",
    "my_rect= Rectangle(4,3)\n",
    "print(my_rect.area())\n",
    "print(my_rect.perimeter())"
   ]
  },
  {
   "cell_type": "code",
   "execution_count": 4,
   "id": "d0cbd8a5-4c66-4256-bf85-8125e257b8d1",
   "metadata": {},
   "outputs": [],
   "source": [
    "#Task 3"
   ]
  },
  {
   "cell_type": "code",
   "execution_count": 7,
   "id": "c19ad2ac-a3a7-48ec-b6b9-ecfe64132329",
   "metadata": {},
   "outputs": [
    {
     "name": "stdout",
     "output_type": "stream",
     "text": [
      "the area is 154, and the perimeter is 44\n",
      "the point is inside the circle\n",
      "None\n"
     ]
    }
   ],
   "source": [
    "import math\n",
    "class Circle:\n",
    "    def __init__(self,xo,yo,x,y,radius):\n",
    "        self.xo = xo\n",
    "        self.yo = yo\n",
    "        self.x = x \n",
    "        self.y = y\n",
    "        self.radius=radius\n",
    "    def area_perimeter(self):\n",
    "        return \"the area is {}, and the perimeter is {}\".format(round(math.pi* self.radius**2),round (2*math.pi*self.radius))\n",
    "        \n",
    "    def isInside(self):\n",
    "        d=math.sqrt(((self.x-self.xo)**2)+((self.y-self.yo))**2)\n",
    "        if d <= self.radius :\n",
    "            print(\"the point is inside the circle\")\n",
    "        else:\n",
    "            print(\"the point is outside the circle\")\n",
    "\n",
    "mycircle_mypoint=Circle(5,2,3,6,7)\n",
    "print (mycircle_mypoint.area_perimeter())\n",
    "print (mycircle_mypoint.isInside())"
   ]
  },
  {
   "cell_type": "code",
   "execution_count": 8,
   "id": "7351eee9-34fd-4e8a-9851-4dbe8989144e",
   "metadata": {},
   "outputs": [],
   "source": [
    "#Task 4"
   ]
  },
  {
   "cell_type": "code",
   "execution_count": 21,
   "id": "488d7461-7500-424b-9a18-43d54e4157b5",
   "metadata": {},
   "outputs": [
    {
     "name": "stdin",
     "output_type": "stream",
     "text": [
      "what amount will you depose 22\n"
     ]
    },
    {
     "name": "stdout",
     "output_type": "stream",
     "text": [
      "72\n",
      "None\n"
     ]
    },
    {
     "name": "stdin",
     "output_type": "stream",
     "text": [
      "what amount will you take 10\n"
     ]
    },
    {
     "name": "stdout",
     "output_type": "stream",
     "text": [
      "62\n",
      "None\n"
     ]
    }
   ],
   "source": [
    "class Bank:\n",
    "    def __init__(self,balance):\n",
    "        self.balance=balance\n",
    "    def deposit(self):\n",
    "        x=int(input(\"what amount will you depose\"))\n",
    "        self.balance=self.balance+x\n",
    "        print(self.balance)\n",
    "    def withdraw(self):\n",
    "        y=int(input(\"what amount will you take\"))\n",
    "        self.balance=self.balance-y\n",
    "        print(self.balance)\n",
    "        \n",
    "myaccount=Bank(50)\n",
    "print(myaccount.deposit())\n",
    "print(myaccount.withdraw())\n",
    "        \n",
    "    "
   ]
  },
  {
   "cell_type": "code",
   "execution_count": null,
   "id": "7705abbd-9e25-459a-a33f-737cd55f47dc",
   "metadata": {},
   "outputs": [],
   "source": []
  }
 ],
 "metadata": {
  "kernelspec": {
   "display_name": "Python 3 (ipykernel)",
   "language": "python",
   "name": "python3"
  },
  "language_info": {
   "codemirror_mode": {
    "name": "ipython",
    "version": 3
   },
   "file_extension": ".py",
   "mimetype": "text/x-python",
   "name": "python",
   "nbconvert_exporter": "python",
   "pygments_lexer": "ipython3",
   "version": "3.9.7"
  }
 },
 "nbformat": 4,
 "nbformat_minor": 5
}
