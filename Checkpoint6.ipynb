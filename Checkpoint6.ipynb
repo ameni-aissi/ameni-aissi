{
 "cells": [
  {
   "cell_type": "code",
   "execution_count": 1,
   "id": "4c1385e7-ee7c-47cf-9e0d-ec1bcab25c5e",
   "metadata": {},
   "outputs": [],
   "source": [
    "#Task 1"
   ]
  },
  {
   "cell_type": "code",
   "execution_count": 2,
   "id": "b964cd92-38e2-4fe7-a57e-2c090b8ea52f",
   "metadata": {},
   "outputs": [],
   "source": [
    "import numpy as np"
   ]
  },
  {
   "cell_type": "code",
   "execution_count": 4,
   "id": "a80cd8c7-7674-405b-9f1c-355b1919af80",
   "metadata": {},
   "outputs": [],
   "source": [
    "a=np.array([[1,4,7,8],[2,5,0,1]])"
   ]
  },
  {
   "cell_type": "code",
   "execution_count": 13,
   "id": "9c70de12-82ee-47c0-aba9-7a8c12b49470",
   "metadata": {},
   "outputs": [],
   "source": [
    "b=a.tolist()"
   ]
  },
  {
   "cell_type": "code",
   "execution_count": 15,
   "id": "ad98f1cb-7f07-4bb8-a01f-12645b7fc3a5",
   "metadata": {},
   "outputs": [
    {
     "name": "stdout",
     "output_type": "stream",
     "text": [
      "[[1, 4, 7, 8], [2, 5, 0, 1]]\n"
     ]
    }
   ],
   "source": [
    "print(b)"
   ]
  },
  {
   "cell_type": "code",
   "execution_count": 16,
   "id": "9266d53f-8be3-48a6-af6f-874bdf38da6c",
   "metadata": {},
   "outputs": [],
   "source": [
    "#Task 2 "
   ]
  },
  {
   "cell_type": "code",
   "execution_count": 52,
   "id": "0a655e9d-4b97-45e8-9779-2f7e96f1f307",
   "metadata": {},
   "outputs": [],
   "source": [
    "#Methode 1"
   ]
  },
  {
   "cell_type": "code",
   "execution_count": 18,
   "id": "25e343f8-03f1-4fe9-84b9-307de6003187",
   "metadata": {},
   "outputs": [],
   "source": [
    "a=np.array([[1,4,7,8],[2,5,0,1],[7,11,0,9]])"
   ]
  },
  {
   "cell_type": "code",
   "execution_count": 20,
   "id": "e88984cd-dd85-44e1-a017-3891c9b938ca",
   "metadata": {},
   "outputs": [
    {
     "name": "stdout",
     "output_type": "stream",
     "text": [
      "[[ 1  4  7  8]\n",
      " [ 2  5  0  1]\n",
      " [ 7 11  0  9]]\n"
     ]
    }
   ],
   "source": [
    "print(a)"
   ]
  },
  {
   "cell_type": "code",
   "execution_count": 51,
   "id": "36224390-11d2-4b39-83d9-c48c171f42f8",
   "metadata": {},
   "outputs": [
    {
     "name": "stdout",
     "output_type": "stream",
     "text": [
      "6\n"
     ]
    }
   ],
   "source": [
    "x=0\n",
    "summ=0\n",
    "size=a.shape\n",
    "nraws=size[0]\n",
    "for x in range (0,nraws) :\n",
    "    diag=a[x,x]\n",
    "    summ=summ+diag\n",
    "print(summ)\n"
   ]
  },
  {
   "cell_type": "code",
   "execution_count": 53,
   "id": "35c96fae-7646-485f-abae-0eb4db7fc3b3",
   "metadata": {},
   "outputs": [],
   "source": [
    "#Methode 2"
   ]
  },
  {
   "cell_type": "code",
   "execution_count": 58,
   "id": "4b4cb779-7d3b-450b-8d61-181b26090d2c",
   "metadata": {},
   "outputs": [],
   "source": [
    "b=a.trace()"
   ]
  },
  {
   "cell_type": "code",
   "execution_count": 60,
   "id": "2ce1ce2e-66d6-42bb-8107-aa1b7abc0603",
   "metadata": {},
   "outputs": [
    {
     "name": "stdout",
     "output_type": "stream",
     "text": [
      "6\n"
     ]
    }
   ],
   "source": [
    "print(b)"
   ]
  },
  {
   "cell_type": "code",
   "execution_count": 62,
   "id": "a0629373-4f30-4dd6-9b86-2e4ccbd8b3d1",
   "metadata": {},
   "outputs": [],
   "source": [
    "#Task 3"
   ]
  },
  {
   "cell_type": "code",
   "execution_count": 72,
   "id": "5e41c06d-6b94-49c9-8abb-8ae600a11591",
   "metadata": {},
   "outputs": [],
   "source": [
    "a =np.array([[1,2],[3,5]])"
   ]
  },
  {
   "cell_type": "code",
   "execution_count": 64,
   "id": "8bb3db5b-175e-4db5-ad83-7ded6d9019f4",
   "metadata": {},
   "outputs": [],
   "source": [
    "x=2"
   ]
  },
  {
   "cell_type": "code",
   "execution_count": 79,
   "id": "58865590-f7da-44de-80e9-20998de5f4e1",
   "metadata": {},
   "outputs": [
    {
     "data": {
      "text/plain": [
       "array([3, 5])"
      ]
     },
     "execution_count": 79,
     "metadata": {},
     "output_type": "execute_result"
    }
   ],
   "source": [
    "a[a>x]"
   ]
  },
  {
   "cell_type": "code",
   "execution_count": 80,
   "id": "fc1869dc-f8dd-4880-a749-7ac8f4ad9f6a",
   "metadata": {},
   "outputs": [],
   "source": [
    "#Methode 2"
   ]
  },
  {
   "cell_type": "code",
   "execution_count": 86,
   "id": "1822edb7-687e-4abd-84e6-9e8f9e73a7cd",
   "metadata": {},
   "outputs": [
    {
     "name": "stdout",
     "output_type": "stream",
     "text": [
      "3 > 2\n",
      "5 > 2\n"
     ]
    }
   ],
   "source": [
    "for i in range (0,2):\n",
    "    for j in range (0,2):\n",
    "        if a[i,j] > 2:\n",
    "            print (a[i,j],\">\",x)"
   ]
  },
  {
   "cell_type": "code",
   "execution_count": 87,
   "id": "86b80239-db8c-488b-a6e5-5b9f1798bdd2",
   "metadata": {},
   "outputs": [],
   "source": [
    "#Task 4"
   ]
  },
  {
   "cell_type": "code",
   "execution_count": 89,
   "id": "1fcb8d13-7bb2-4308-a9f2-3e6bc83e8a40",
   "metadata": {},
   "outputs": [],
   "source": [
    "A=np.random.random((3,3))\n",
    "B=np.random.random((3,3))"
   ]
  },
  {
   "cell_type": "code",
   "execution_count": 93,
   "id": "b77a1ec7-0569-4433-882c-b9f9a3dbcf27",
   "metadata": {},
   "outputs": [
    {
     "name": "stdout",
     "output_type": "stream",
     "text": [
      "A est [[0.33086143 0.41574635 0.74346001]\n",
      " [0.70659541 0.18672697 0.12952927]\n",
      " [0.99186003 0.50750341 0.31167106]]\n",
      "B est [[0.09561442 0.9747727  0.56273558]\n",
      " [0.94659001 0.89238341 0.903993  ]\n",
      " [0.2555954  0.35287211 0.38504946]]\n"
     ]
    }
   ],
   "source": [
    "print (\"A est\",A)\n",
    "print(\"B est\",B)"
   ]
  },
  {
   "cell_type": "code",
   "execution_count": 95,
   "id": "fb393241-76ff-4283-9e3c-bfec4fede445",
   "metadata": {},
   "outputs": [
    {
     "name": "stdout",
     "output_type": "stream",
     "text": [
      "[[0.42647585 1.39051905 1.30619559]\n",
      " [1.65318542 1.07911038 1.03352226]\n",
      " [1.24745543 0.86037552 0.69672052]]\n"
     ]
    }
   ],
   "source": [
    "C=np.add(A,B)\n",
    "print(C)"
   ]
  },
  {
   "cell_type": "code",
   "execution_count": 96,
   "id": "25136228-2861-4ea6-8186-c9506039a118",
   "metadata": {},
   "outputs": [],
   "source": [
    "C=A+B    "
   ]
  },
  {
   "cell_type": "code",
   "execution_count": 98,
   "id": "8baa64c4-0dc8-46a3-aa35-e58adb15fea2",
   "metadata": {},
   "outputs": [],
   "source": [
    "#Task 5 "
   ]
  },
  {
   "cell_type": "code",
   "execution_count": 100,
   "id": "833c15ad-d46c-4798-a48d-07d1768d7293",
   "metadata": {},
   "outputs": [],
   "source": [
    "size=C.shape"
   ]
  },
  {
   "cell_type": "code",
   "execution_count": 105,
   "id": "b50a1b99-bfc0-4d21-bb70-998a62265d7f",
   "metadata": {},
   "outputs": [
    {
     "name": "stdout",
     "output_type": "stream",
     "text": [
      "3\n"
     ]
    }
   ],
   "source": [
    "nraws=size[0]\n",
    "print(nraws)"
   ]
  },
  {
   "cell_type": "code",
   "execution_count": 110,
   "id": "de3b8c44-1141-4aa2-95d5-bd14d2e21e97",
   "metadata": {},
   "outputs": [
    {
     "ename": "AttributeError",
     "evalue": "module 'math' has no attribute 'mean'",
     "output_type": "error",
     "traceback": [
      "\u001b[1;31m---------------------------------------------------------------------------\u001b[0m",
      "\u001b[1;31mAttributeError\u001b[0m                            Traceback (most recent call last)",
      "\u001b[1;32m~\\AppData\\Local\\Temp/ipykernel_8704/2806029246.py\u001b[0m in \u001b[0;36m<module>\u001b[1;34m\u001b[0m\n\u001b[0;32m      1\u001b[0m \u001b[1;32mimport\u001b[0m \u001b[0mmath\u001b[0m\u001b[1;33m\u001b[0m\u001b[1;33m\u001b[0m\u001b[0m\n\u001b[0;32m      2\u001b[0m \u001b[1;32mfor\u001b[0m \u001b[0mi\u001b[0m \u001b[1;32min\u001b[0m \u001b[0mrange\u001b[0m \u001b[1;33m(\u001b[0m\u001b[1;36m0\u001b[0m\u001b[1;33m,\u001b[0m\u001b[0mnraws\u001b[0m\u001b[1;33m)\u001b[0m\u001b[1;33m:\u001b[0m\u001b[1;33m\u001b[0m\u001b[1;33m\u001b[0m\u001b[0m\n\u001b[1;32m----> 3\u001b[1;33m     \u001b[0mmoy\u001b[0m\u001b[1;33m=\u001b[0m \u001b[0mmath\u001b[0m\u001b[1;33m.\u001b[0m\u001b[0mmean\u001b[0m \u001b[1;33m(\u001b[0m\u001b[0mC\u001b[0m\u001b[1;33m[\u001b[0m\u001b[0mi\u001b[0m\u001b[1;33m,\u001b[0m\u001b[1;33m:\u001b[0m\u001b[1;33m]\u001b[0m\u001b[1;33m)\u001b[0m\u001b[1;33m\u001b[0m\u001b[1;33m\u001b[0m\u001b[0m\n\u001b[0m\u001b[0;32m      4\u001b[0m     \u001b[0mprint\u001b[0m\u001b[1;33m(\u001b[0m\u001b[0mmoy\u001b[0m\u001b[1;33m)\u001b[0m\u001b[1;33m\u001b[0m\u001b[1;33m\u001b[0m\u001b[0m\n",
      "\u001b[1;31mAttributeError\u001b[0m: module 'math' has no attribute 'mean'"
     ]
    }
   ],
   "source": [
    "import statistics\n",
    "for i in range (0,nraws):\n",
    "    moy= statistics.mean (C[i,:])\n",
    "    print(moy)"
   ]
  },
  {
   "cell_type": "code",
   "execution_count": null,
   "id": "016838a1-d261-4791-a813-1f4b4b7d72cf",
   "metadata": {},
   "outputs": [],
   "source": []
  }
 ],
 "metadata": {
  "kernelspec": {
   "display_name": "Python 3 (ipykernel)",
   "language": "python",
   "name": "python3"
  },
  "language_info": {
   "codemirror_mode": {
    "name": "ipython",
    "version": 3
   },
   "file_extension": ".py",
   "mimetype": "text/x-python",
   "name": "python",
   "nbconvert_exporter": "python",
   "pygments_lexer": "ipython3",
   "version": "3.9.7"
  }
 },
 "nbformat": 4,
 "nbformat_minor": 5
}
