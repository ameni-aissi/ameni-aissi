{
 "cells": [
  {
   "cell_type": "code",
   "execution_count": 23,
   "id": "83c00f34-c288-448e-bf37-59178b6cba6d",
   "metadata": {},
   "outputs": [],
   "source": [
    "f=open(\"test.txt\")"
   ]
  },
  {
   "cell_type": "code",
   "execution_count": 2,
   "id": "8260fe3b-6739-48f6-9e3b-9fb68ac04d77",
   "metadata": {},
   "outputs": [
    {
     "data": {
      "text/plain": [
       "'my first file\\nThis file\\n\\ncontains three lines\\n'"
      ]
     },
     "execution_count": 2,
     "metadata": {},
     "output_type": "execute_result"
    }
   ],
   "source": [
    "f.read()"
   ]
  },
  {
   "cell_type": "code",
   "execution_count": 17,
   "id": "a0b11e9d-a7ff-4f30-a436-2c5c9fcf460d",
   "metadata": {},
   "outputs": [],
   "source": [
    "lines=f.readlines()"
   ]
  },
  {
   "cell_type": "code",
   "execution_count": 18,
   "id": "b4ed5626-ec81-4c81-9a37-37368d146579",
   "metadata": {},
   "outputs": [],
   "source": [
    "last_line = lines[-1:]"
   ]
  },
  {
   "cell_type": "code",
   "execution_count": 19,
   "id": "12f4ea54-c563-4be5-be62-393973c51b80",
   "metadata": {},
   "outputs": [
    {
     "data": {
      "text/plain": [
       "['contains three lines\\n']"
      ]
     },
     "execution_count": 19,
     "metadata": {},
     "output_type": "execute_result"
    }
   ],
   "source": [
    "last_line"
   ]
  },
  {
   "cell_type": "code",
   "execution_count": 20,
   "id": "2c0d7c27-c590-49a2-a146-1259cfd1b5ce",
   "metadata": {},
   "outputs": [
    {
     "data": {
      "text/plain": [
       "['This file\\n', '\\n', 'contains three lines\\n']"
      ]
     },
     "execution_count": 20,
     "metadata": {},
     "output_type": "execute_result"
    }
   ],
   "source": [
    "first_line=lines[1:]\n",
    "first_line"
   ]
  },
  {
   "cell_type": "code",
   "execution_count": 25,
   "id": "71a6a331-7423-42cd-b898-22e1e935a160",
   "metadata": {},
   "outputs": [
    {
     "name": "stdout",
     "output_type": "stream",
     "text": [
      "42\n"
     ]
    }
   ],
   "source": [
    "l=0\n",
    "for line in f:\n",
    "    l=len(line)\n",
    "    l+=l\n",
    "print(l)"
   ]
  },
  {
   "cell_type": "code",
   "execution_count": null,
   "id": "61fa38ba-802d-49c5-8455-5c21c697e559",
   "metadata": {},
   "outputs": [],
   "source": []
  }
 ],
 "metadata": {
  "kernelspec": {
   "display_name": "Python 3 (ipykernel)",
   "language": "python",
   "name": "python3"
  },
  "language_info": {
   "codemirror_mode": {
    "name": "ipython",
    "version": 3
   },
   "file_extension": ".py",
   "mimetype": "text/x-python",
   "name": "python",
   "nbconvert_exporter": "python",
   "pygments_lexer": "ipython3",
   "version": "3.9.7"
  }
 },
 "nbformat": 4,
 "nbformat_minor": 5
}
