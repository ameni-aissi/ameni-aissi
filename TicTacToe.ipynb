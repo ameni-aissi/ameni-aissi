{
 "cells": [
  {
   "cell_type": "code",
   "execution_count": 1,
   "id": "e5f04663-da49-4bf1-9b06-c6d328c76582",
   "metadata": {},
   "outputs": [
    {
     "name": "stdin",
     "output_type": "stream",
     "text": [
      "Who wants to start first, X or O  X\n"
     ]
    },
    {
     "name": "stdout",
     "output_type": "stream",
     "text": [
      " | | \n",
      "-+-+-\n",
      " | | \n",
      "-+-+-\n",
      " | | \n",
      "Player X make your move\n"
     ]
    },
    {
     "name": "stdin",
     "output_type": "stream",
     "text": [
      " 1\n"
     ]
    },
    {
     "name": "stdout",
     "output_type": "stream",
     "text": [
      "X| | \n",
      "-+-+-\n",
      " | | \n",
      "-+-+-\n",
      " | | \n",
      "Player O make your move\n"
     ]
    },
    {
     "name": "stdin",
     "output_type": "stream",
     "text": [
      " 2\n"
     ]
    },
    {
     "name": "stdout",
     "output_type": "stream",
     "text": [
      "X|O| \n",
      "-+-+-\n",
      " | | \n",
      "-+-+-\n",
      " | | \n",
      "Player X make your move\n"
     ]
    },
    {
     "name": "stdin",
     "output_type": "stream",
     "text": [
      " 3\n"
     ]
    },
    {
     "name": "stdout",
     "output_type": "stream",
     "text": [
      "X|O|X\n",
      "-+-+-\n",
      " | | \n",
      "-+-+-\n",
      " | | \n",
      "Player O make your move\n"
     ]
    },
    {
     "name": "stdin",
     "output_type": "stream",
     "text": [
      " 4\n"
     ]
    },
    {
     "name": "stdout",
     "output_type": "stream",
     "text": [
      "X|O|X\n",
      "-+-+-\n",
      "O| | \n",
      "-+-+-\n",
      " | | \n",
      "Player X make your move\n"
     ]
    },
    {
     "name": "stdin",
     "output_type": "stream",
     "text": [
      " 5\n"
     ]
    },
    {
     "name": "stdout",
     "output_type": "stream",
     "text": [
      "X|O|X\n",
      "-+-+-\n",
      "O|X| \n",
      "-+-+-\n",
      " | | \n",
      "Player O make your move\n"
     ]
    },
    {
     "name": "stdin",
     "output_type": "stream",
     "text": [
      " 6\n"
     ]
    },
    {
     "name": "stdout",
     "output_type": "stream",
     "text": [
      "X|O|X\n",
      "-+-+-\n",
      "O|X|O\n",
      "-+-+-\n",
      " | | \n",
      "Player X make your move\n"
     ]
    },
    {
     "name": "stdin",
     "output_type": "stream",
     "text": [
      " 8\n"
     ]
    },
    {
     "name": "stdout",
     "output_type": "stream",
     "text": [
      "X|O|X\n",
      "-+-+-\n",
      "O|X|O\n",
      "-+-+-\n",
      " |X| \n",
      "Player O make your move\n"
     ]
    },
    {
     "name": "stdin",
     "output_type": "stream",
     "text": [
      " 7\n"
     ]
    },
    {
     "name": "stdout",
     "output_type": "stream",
     "text": [
      "X|O|X\n",
      "-+-+-\n",
      "O|X|O\n",
      "-+-+-\n",
      "O|X| \n",
      "Player X make your move\n"
     ]
    },
    {
     "name": "stdin",
     "output_type": "stream",
     "text": [
      " 9\n"
     ]
    },
    {
     "name": "stdout",
     "output_type": "stream",
     "text": [
      "X|O|X\n",
      "-+-+-\n",
      "O|X|O\n",
      "-+-+-\n",
      "O|X|X\n",
      "Player X is the winner\n"
     ]
    }
   ],
   "source": [
    "#Creation of the board game\n",
    "\n",
    "tableau_jeu = {'1': ' ' , '2': ' ' , '3': ' ' ,'4': ' ' , '5': ' ' , '6': ' ' ,'7': ' ' , '8': ' ' , '9': ' ' }\n",
    "\n",
    "indices = tableau_jeu.keys()\n",
    "\n",
    "def schema_jeu (tableau):\n",
    "    print(tableau['1'] + '|' + tableau['2'] + '|' + tableau['3'])\n",
    "    print('-+-+-')\n",
    "    print(tableau['4'] + '|' + tableau['5'] + '|' + tableau['6'])\n",
    "    print('-+-+-')\n",
    "    print(tableau['7'] + '|' + tableau['8'] + '|' + tableau['9'])\n",
    "\n",
    "\n",
    "# The game function \n",
    "def tic_tac_toe():\n",
    "#Choosing players X and O\n",
    "\n",
    "           \n",
    "    turn = input(\"Who wants to start first, X or O \")\n",
    "    j = 0 \n",
    "    test = True\n",
    "    \n",
    "    while test : \n",
    "        for i in range(10):\n",
    "            schema_jeu (tableau_jeu)\n",
    "            print(\"Player\",turn,\"make your move\")\n",
    "            place = input()        \n",
    "\n",
    "            if tableau_jeu[place] == ' ':\n",
    "                tableau_jeu[place] = turn\n",
    "                j += 1\n",
    "                    \n",
    "            else:\n",
    "                print(\"This place is already taken, please make another move \")\n",
    "                continue\n",
    "                \n",
    "            \n",
    "                   \n",
    "     # All possibilities of winning ! Who won the game ? player 1 or 2 ?\n",
    "        \n",
    "            if ((tableau_jeu['1']==tableau_jeu['2']==tableau_jeu['3']==turn) or #first row\n",
    "                (tableau_jeu['4']==tableau_jeu['5']==tableau_jeu['6']==turn) or  #second row\n",
    "                (tableau_jeu['7']==tableau_jeu['8']==tableau_jeu['9']==turn) or  #third row\n",
    "                (tableau_jeu['1']==tableau_jeu['5']==tableau_jeu['9']==turn) or  #left to ritght diagonal \n",
    "                (tableau_jeu['3']==tableau_jeu['5']==tableau_jeu['7']==turn) or  #right to left diagonal \n",
    "                (tableau_jeu['1']==tableau_jeu['4']==tableau_jeu['7']==turn) or  #first column \n",
    "                (tableau_jeu['2']==tableau_jeu['5']==tableau_jeu['8']==turn) or  #second column \n",
    "                (tableau_jeu['3']==tableau_jeu['6']==tableau_jeu['9'])==turn) : #third column    \n",
    "                            \n",
    "                schema_jeu (tableau_jeu)\n",
    "                print(\"Player\",turn,\"is the winner\")\n",
    "                test = False \n",
    "                break \n",
    "                \n",
    "     # Null game\n",
    "            if j ==9 : \n",
    "                print(\"Game over\")\n",
    "                test = False \n",
    "                break\n",
    "            \n",
    "            if turn =='X':\n",
    "                turn = 'O'\n",
    "            else :\n",
    "                turn = 'X'\n",
    "          \n",
    "         \n",
    "    \n",
    "tic_tac_toe()"
   ]
  },
  {
   "cell_type": "code",
   "execution_count": null,
   "id": "898bc830-1c7c-49e9-a026-e6526bfc0a22",
   "metadata": {},
   "outputs": [],
   "source": []
  }
 ],
 "metadata": {
  "kernelspec": {
   "display_name": "Python 3 (ipykernel)",
   "language": "python",
   "name": "python3"
  },
  "language_info": {
   "codemirror_mode": {
    "name": "ipython",
    "version": 3
   },
   "file_extension": ".py",
   "mimetype": "text/x-python",
   "name": "python",
   "nbconvert_exporter": "python",
   "pygments_lexer": "ipython3",
   "version": "3.9.7"
  }
 },
 "nbformat": 4,
 "nbformat_minor": 5
}
