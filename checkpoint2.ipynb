{
 "cells": [
  {
   "cell_type": "code",
   "execution_count": 1,
   "id": "7b0a370b-3955-4d29-b94e-c149a854174c",
   "metadata": {},
   "outputs": [],
   "source": [
    "my_list=[2,3,6] #Task 1"
   ]
  },
  {
   "cell_type": "code",
   "execution_count": 2,
   "id": "ea36dbc8-24c2-4aa3-8805-5a9c948053ae",
   "metadata": {},
   "outputs": [
    {
     "name": "stdout",
     "output_type": "stream",
     "text": [
      "36\n"
     ]
    }
   ],
   "source": [
    "print (my_list[0]*my_list[1]*my_list[2])"
   ]
  },
  {
   "cell_type": "code",
   "execution_count": 3,
   "id": "75d8150e-e2cc-4b4b-8666-aaa73a80cc06",
   "metadata": {},
   "outputs": [
    {
     "name": "stdout",
     "output_type": "stream",
     "text": [
      "36\n"
     ]
    }
   ],
   "source": [
    "m=1\n",
    "for i in my_list: \n",
    "    m*=i\n",
    "print (m)"
   ]
  },
  {
   "cell_type": "code",
   "execution_count": 4,
   "id": "140b8f2d-1167-44b5-9d56-af9607108486",
   "metadata": {},
   "outputs": [],
   "source": [
    "#Task 2"
   ]
  },
  {
   "cell_type": "code",
   "execution_count": 5,
   "id": "fdb22a86-6a03-4e28-962d-10d302a537e9",
   "metadata": {},
   "outputs": [],
   "source": [
    "my_list=[(2, 5), (1, 2), (4, 4), (2, 3), (2, 1)]"
   ]
  },
  {
   "cell_type": "code",
   "execution_count": 6,
   "id": "123aa2e2-df9e-4a4b-bc7c-01109e1588ad",
   "metadata": {},
   "outputs": [],
   "source": [
    "def takeSecond(elem):\n",
    "    return elem[1]"
   ]
  },
  {
   "cell_type": "code",
   "execution_count": 7,
   "id": "82a2742e-8fc0-4d6a-9aae-9dc5dc223041",
   "metadata": {},
   "outputs": [],
   "source": [
    "my_list.sort(key=takeSecond)"
   ]
  },
  {
   "cell_type": "code",
   "execution_count": 8,
   "id": "e9aacc49-5abd-4dee-a2ef-399f375e854d",
   "metadata": {},
   "outputs": [
    {
     "name": "stdout",
     "output_type": "stream",
     "text": [
      "[(2, 1), (1, 2), (2, 3), (4, 4), (2, 5)]\n"
     ]
    }
   ],
   "source": [
    "print (my_list)"
   ]
  },
  {
   "cell_type": "code",
   "execution_count": 9,
   "id": "16c438a4-5279-46dc-b376-b8c47ef07400",
   "metadata": {},
   "outputs": [],
   "source": [
    "#Task 3 : I have changed the key \"d\" by \"c\" in d2, because it will be an error in running, "
   ]
  },
  {
   "cell_type": "code",
   "execution_count": 10,
   "id": "fa37ff49-3710-4642-8f67-2d5ce8da0121",
   "metadata": {},
   "outputs": [],
   "source": [
    "d1 = {'a': 100, 'b': 200, 'c':300}\n",
    "d2 = {'a': 300, 'b': 200, 'c':400}"
   ]
  },
  {
   "cell_type": "code",
   "execution_count": 11,
   "id": "c7a05876-b0a6-4950-b8fd-292fabf67b04",
   "metadata": {},
   "outputs": [
    {
     "name": "stdout",
     "output_type": "stream",
     "text": [
      "{'b': 400}\n"
     ]
    }
   ],
   "source": [
    "d3={}\n",
    "for key in d1.keys() :\n",
    "    for key in d2.keys() :\n",
    "        if d1[key]==d2[key]:\n",
    "            d3[key]=d1[key]+d2[key]\n",
    "print (d3)"
   ]
  },
  {
   "cell_type": "code",
   "execution_count": 12,
   "id": "90da022b-31ae-4c5f-a206-77dbfbc7b91d",
   "metadata": {},
   "outputs": [],
   "source": [
    "#Task 4 "
   ]
  },
  {
   "cell_type": "code",
   "execution_count": 13,
   "id": "448f0ca5-248e-4d2e-b482-28843b922595",
   "metadata": {},
   "outputs": [],
   "source": [
    "n=8"
   ]
  },
  {
   "cell_type": "code",
   "execution_count": 14,
   "id": "fa14377b-c20f-4f71-868d-e08f71e9574f",
   "metadata": {},
   "outputs": [],
   "source": [
    "d={}"
   ]
  },
  {
   "cell_type": "code",
   "execution_count": 15,
   "id": "4385bbcf-c299-448c-aa7c-e91c46de2828",
   "metadata": {},
   "outputs": [
    {
     "name": "stdout",
     "output_type": "stream",
     "text": [
      "{1: 1}\n",
      "{2: 4}\n",
      "{3: 9}\n",
      "{4: 16}\n",
      "{5: 25}\n",
      "{6: 36}\n",
      "{7: 49}\n",
      "{8: 64}\n"
     ]
    }
   ],
   "source": [
    "for i in range (1,9):\n",
    "    d={i:i*i}\n",
    "    print (d)\n",
    " "
   ]
  },
  {
   "cell_type": "code",
   "execution_count": 16,
   "id": "b83efe89-7464-4f6d-b644-a38585e1c722",
   "metadata": {},
   "outputs": [],
   "source": [
    "#Task 5"
   ]
  },
  {
   "cell_type": "code",
   "execution_count": 30,
   "id": "c1728aa3-b387-40e1-af9f-6fc51aa022c4",
   "metadata": {},
   "outputs": [],
   "source": [
    "mylist=[('item1', '12.20'), ('item2', '15.10'), ('item3', '24.5')]"
   ]
  },
  {
   "cell_type": "code",
   "execution_count": 31,
   "id": "ad15c437-c6da-43d0-824c-c93f0ddaf2de",
   "metadata": {},
   "outputs": [],
   "source": [
    "def takeSecond(elem):\n",
    "    return elem[1]\n",
    "mylist.sort(key=takeSecond, reverse=True)"
   ]
  },
  {
   "cell_type": "code",
   "execution_count": 32,
   "id": "efb0e574-9898-41eb-b405-7962371661a9",
   "metadata": {},
   "outputs": [
    {
     "name": "stdout",
     "output_type": "stream",
     "text": [
      "[('item3', '24.5'), ('item2', '15.10'), ('item1', '12.20')]\n"
     ]
    }
   ],
   "source": [
    "print(mylist)"
   ]
  },
  {
   "cell_type": "code",
   "execution_count": null,
   "id": "6a491d2a-7708-47cb-866d-2e71f6a5fd58",
   "metadata": {},
   "outputs": [],
   "source": []
  }
 ],
 "metadata": {
  "kernelspec": {
   "display_name": "Python 3 (ipykernel)",
   "language": "python",
   "name": "python3"
  },
  "language_info": {
   "codemirror_mode": {
    "name": "ipython",
    "version": 3
   },
   "file_extension": ".py",
   "mimetype": "text/x-python",
   "name": "python",
   "nbconvert_exporter": "python",
   "pygments_lexer": "ipython3",
   "version": "3.9.7"
  }
 },
 "nbformat": 4,
 "nbformat_minor": 5
}
