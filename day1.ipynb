{
 "cells": [
  {
   "cell_type": "code",
   "execution_count": 1,
   "id": "04976f76-d25d-46d9-b0ed-74e1ce5909c8",
   "metadata": {},
   "outputs": [
    {
     "name": "stdout",
     "output_type": "stream",
     "text": [
      "hello\n"
     ]
    }
   ],
   "source": [
    "print('hello')"
   ]
  },
  {
   "cell_type": "code",
   "execution_count": 2,
   "id": "96d7b436-8dc5-4a11-88f8-2f63fa9d48f2",
   "metadata": {},
   "outputs": [],
   "source": [
    "a=\"aujourd\"\n"
   ]
  },
  {
   "cell_type": "code",
   "execution_count": 3,
   "id": "eab4c4f7-6602-48e8-a82c-b34f717f4ab1",
   "metadata": {},
   "outputs": [
    {
     "data": {
      "text/plain": [
       "str"
      ]
     },
     "execution_count": 3,
     "metadata": {},
     "output_type": "execute_result"
    }
   ],
   "source": [
    "type(a)"
   ]
  },
  {
   "cell_type": "code",
   "execution_count": 4,
   "id": "3d0279d7-3114-4b6b-8716-8ec55e838372",
   "metadata": {},
   "outputs": [
    {
     "name": "stdout",
     "output_type": "stream",
     "text": [
      "Welcome to python world! Let's start coding\n"
     ]
    }
   ],
   "source": [
    "print(\"Welcome to python world! Let's start coding\")\n"
   ]
  },
  {
   "cell_type": "code",
   "execution_count": null,
   "id": "31e7985b-b009-4521-a7fa-8e791406f104",
   "metadata": {},
   "outputs": [],
   "source": []
  }
 ],
 "metadata": {
  "kernelspec": {
   "display_name": "Python 3 (ipykernel)",
   "language": "python",
   "name": "python3"
  },
  "language_info": {
   "codemirror_mode": {
    "name": "ipython",
    "version": 3
   },
   "file_extension": ".py",
   "mimetype": "text/x-python",
   "name": "python",
   "nbconvert_exporter": "python",
   "pygments_lexer": "ipython3",
   "version": "3.9.7"
  }
 },
 "nbformat": 4,
 "nbformat_minor": 5
}
